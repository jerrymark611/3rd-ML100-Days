{
 "cells": [
  {
   "cell_type": "markdown",
   "metadata": {},
   "source": [
    "## Work\n",
    "1. 請嘗試寫一個 callback 用來記錄各類別在訓練過程中，對驗證集的 True Positive 與 True Negative"
   ]
  },
  {
   "cell_type": "code",
   "execution_count": 1,
   "metadata": {},
   "outputs": [
    {
     "name": "stderr",
     "output_type": "stream",
     "text": [
      "Using TensorFlow backend.\n"
     ]
    }
   ],
   "source": [
    "import os\n",
    "import keras\n",
    "\n",
    "# Disable GPU\n",
    "os.environ[\"CUDA_VISIBLE_DEVICES\"] = \"\""
   ]
  },
  {
   "cell_type": "code",
   "execution_count": 2,
   "metadata": {},
   "outputs": [],
   "source": [
    "train, test = keras.datasets.cifar10.load_data()"
   ]
  },
  {
   "cell_type": "code",
   "execution_count": 3,
   "metadata": {},
   "outputs": [],
   "source": [
    "## 資料前處理\n",
    "def preproc_x(x, flatten=True):\n",
    "    x = x / 255.\n",
    "    if flatten:\n",
    "        x = x.reshape((len(x), -1))\n",
    "    return x\n",
    "\n",
    "def preproc_y(y, num_classes=10):\n",
    "    if y.shape[-1] == 1:\n",
    "        y = keras.utils.to_categorical(y, num_classes)\n",
    "    return y    "
   ]
  },
  {
   "cell_type": "code",
   "execution_count": 4,
   "metadata": {},
   "outputs": [],
   "source": [
    "x_train, y_train = train\n",
    "x_test, y_test = test\n",
    "\n",
    "# Preproc the inputs\n",
    "x_train = preproc_x(x_train)\n",
    "x_test = preproc_x(x_test)\n",
    "\n",
    "# Preprc the outputs\n",
    "y_train = preproc_y(y_train)\n",
    "y_test = preproc_y(y_test)"
   ]
  },
  {
   "cell_type": "code",
   "execution_count": 5,
   "metadata": {},
   "outputs": [],
   "source": [
    "from keras.layers import BatchNormalization\n",
    "\n",
    "\"\"\"\n",
    "建立神經網路，並加入 BN layer\n",
    "\"\"\"\n",
    "def build_mlp(input_shape, output_units=10, num_neurons=[512, 256, 128]):\n",
    "    input_layer = keras.layers.Input(input_shape)\n",
    "    \n",
    "    for i, n_units in enumerate(num_neurons):\n",
    "        if i == 0:\n",
    "            x = keras.layers.Dense(units=n_units, \n",
    "                                   activation=\"relu\", \n",
    "                                   name=\"hidden_layer\"+str(i+1))(input_layer)\n",
    "            x = BatchNormalization()(x)\n",
    "        else:\n",
    "            x = keras.layers.Dense(units=n_units, \n",
    "                                   activation=\"relu\", \n",
    "                                   name=\"hidden_layer\"+str(i+1))(x)\n",
    "            x = BatchNormalization()(x)\n",
    "    \n",
    "    out = keras.layers.Dense(units=output_units, activation=\"softmax\", name=\"output\")(x)\n",
    "    \n",
    "    model = keras.models.Model(inputs=[input_layer], outputs=[out])\n",
    "    return model"
   ]
  },
  {
   "cell_type": "code",
   "execution_count": 6,
   "metadata": {},
   "outputs": [],
   "source": [
    "## 超參數設定\n",
    "LEARNING_RATE = 1e-3\n",
    "EPOCHS = 25\n",
    "BATCH_SIZE = 1024\n",
    "MOMENTUM = 0.95"
   ]
  },
  {
   "cell_type": "code",
   "execution_count": 7,
   "metadata": {},
   "outputs": [],
   "source": [
    "# 載入 Callbacks\n",
    "from keras.callbacks import Callback\n",
    "\n",
    "# Record_fp_tp\n",
    "class Record_tp_tn(Callback):\n",
    "    def on_train_begin(self, epoch, logs = {}):\n",
    "        logs = logs or {}\n",
    "        record_items = [\"val_tp\", \"val_tn\"]\n",
    "        for i in record_items:\n",
    "            if i not in self.params['metrics']:\n",
    "                self.params['metrics'].append(i)\n",
    "    \n",
    "    def on_epoch_end(self, epoch, logs = {}, thres=0.5):\n",
    "        logs = logs or {}\n",
    "        y_true = self.validation_data[1].argmax(axis = 1)\n",
    "        y_pred = self.model.predict(self.validation_data[0])\n",
    "        y_pred = (y_pred[:, 1] >= thres) * 1\n",
    "        \n",
    "        val_tp = sum(y_true*y_pred)\n",
    "        val_tn = sum((y_true==0) & (y_pred==0))\n",
    "        \n",
    "        logs[\"val_tp\"] = val_tp\n",
    "        logs[\"val_tn\"] = val_tn\n",
    "        \n",
    "rec_tptn = Record_tp_tn()"
   ]
  },
  {
   "cell_type": "code",
   "execution_count": 8,
   "metadata": {
    "scrolled": true
   },
   "outputs": [
    {
     "name": "stdout",
     "output_type": "stream",
     "text": [
      "Model: \"model_1\"\n",
      "_________________________________________________________________\n",
      "Layer (type)                 Output Shape              Param #   \n",
      "=================================================================\n",
      "input_1 (InputLayer)         (None, 3072)              0         \n",
      "_________________________________________________________________\n",
      "hidden_layer1 (Dense)        (None, 512)               1573376   \n",
      "_________________________________________________________________\n",
      "batch_normalization_1 (Batch (None, 512)               2048      \n",
      "_________________________________________________________________\n",
      "hidden_layer2 (Dense)        (None, 256)               131328    \n",
      "_________________________________________________________________\n",
      "batch_normalization_2 (Batch (None, 256)               1024      \n",
      "_________________________________________________________________\n",
      "hidden_layer3 (Dense)        (None, 128)               32896     \n",
      "_________________________________________________________________\n",
      "batch_normalization_3 (Batch (None, 128)               512       \n",
      "_________________________________________________________________\n",
      "output (Dense)               (None, 10)                1290      \n",
      "=================================================================\n",
      "Total params: 1,742,474\n",
      "Trainable params: 1,740,682\n",
      "Non-trainable params: 1,792\n",
      "_________________________________________________________________\n",
      "Train on 50000 samples, validate on 10000 samples\n",
      "Epoch 1/25\n",
      "50000/50000 [==============================] - 5s 107us/step - loss: 2.2143 - accuracy: 0.2658 - val_loss: 2.1103 - val_accuracy: 0.2061\n",
      "Epoch 2/25\n",
      "50000/50000 [==============================] - 4s 78us/step - loss: 1.7411 - accuracy: 0.3950 - val_loss: 1.9282 - val_accuracy: 0.3265\n",
      "Epoch 3/25\n",
      "50000/50000 [==============================] - 4s 77us/step - loss: 1.6151 - accuracy: 0.4366 - val_loss: 1.8018 - val_accuracy: 0.3818\n",
      "Epoch 4/25\n",
      "50000/50000 [==============================] - 4s 79us/step - loss: 1.5394 - accuracy: 0.4632 - val_loss: 1.6975 - val_accuracy: 0.4169\n",
      "Epoch 5/25\n",
      "50000/50000 [==============================] - 4s 80us/step - loss: 1.4868 - accuracy: 0.4831 - val_loss: 1.6449 - val_accuracy: 0.4236\n",
      "Epoch 6/25\n",
      "50000/50000 [==============================] - 4s 76us/step - loss: 1.4428 - accuracy: 0.4995 - val_loss: 1.5931 - val_accuracy: 0.4438\n",
      "Epoch 7/25\n",
      "50000/50000 [==============================] - 4s 75us/step - loss: 1.4035 - accuracy: 0.5135 - val_loss: 1.5393 - val_accuracy: 0.4599\n",
      "Epoch 8/25\n",
      "50000/50000 [==============================] - 4s 77us/step - loss: 1.3672 - accuracy: 0.5270 - val_loss: 1.5272 - val_accuracy: 0.4622\n",
      "Epoch 9/25\n",
      "50000/50000 [==============================] - 4s 73us/step - loss: 1.3349 - accuracy: 0.5395 - val_loss: 1.5026 - val_accuracy: 0.4678\n",
      "Epoch 10/25\n",
      "50000/50000 [==============================] - 4s 79us/step - loss: 1.3051 - accuracy: 0.5482 - val_loss: 1.4932 - val_accuracy: 0.4705\n",
      "Epoch 11/25\n",
      "50000/50000 [==============================] - 4s 85us/step - loss: 1.2778 - accuracy: 0.5585 - val_loss: 1.4821 - val_accuracy: 0.4788\n",
      "Epoch 12/25\n",
      "50000/50000 [==============================] - 5s 94us/step - loss: 1.2518 - accuracy: 0.5687 - val_loss: 1.4720 - val_accuracy: 0.4862\n",
      "Epoch 13/25\n",
      "50000/50000 [==============================] - 5s 94us/step - loss: 1.2263 - accuracy: 0.5790 - val_loss: 1.4706 - val_accuracy: 0.4858\n",
      "Epoch 14/25\n",
      "50000/50000 [==============================] - 5s 97us/step - loss: 1.2018 - accuracy: 0.5879 - val_loss: 1.4817 - val_accuracy: 0.4757\n",
      "Epoch 15/25\n",
      "50000/50000 [==============================] - 5s 95us/step - loss: 1.1786 - accuracy: 0.5963 - val_loss: 1.4605 - val_accuracy: 0.4909\n",
      "Epoch 16/25\n",
      "50000/50000 [==============================] - 5s 96us/step - loss: 1.1563 - accuracy: 0.6047 - val_loss: 1.4622 - val_accuracy: 0.4909\n",
      "Epoch 17/25\n",
      "50000/50000 [==============================] - 4s 83us/step - loss: 1.1342 - accuracy: 0.6123 - val_loss: 1.4632 - val_accuracy: 0.4904\n",
      "Epoch 18/25\n",
      "50000/50000 [==============================] - 4s 81us/step - loss: 1.1109 - accuracy: 0.6227 - val_loss: 1.4593 - val_accuracy: 0.4923\n",
      "Epoch 19/25\n",
      "50000/50000 [==============================] - 4s 80us/step - loss: 1.0880 - accuracy: 0.6311 - val_loss: 1.4536 - val_accuracy: 0.4985\n",
      "Epoch 20/25\n",
      "50000/50000 [==============================] - 4s 80us/step - loss: 1.0692 - accuracy: 0.6372 - val_loss: 1.4579 - val_accuracy: 0.4924\n",
      "Epoch 21/25\n",
      "50000/50000 [==============================] - 4s 79us/step - loss: 1.0498 - accuracy: 0.6442 - val_loss: 1.4580 - val_accuracy: 0.4889\n",
      "Epoch 22/25\n",
      "50000/50000 [==============================] - 4s 80us/step - loss: 1.0267 - accuracy: 0.6520 - val_loss: 1.4603 - val_accuracy: 0.4934\n",
      "Epoch 23/25\n",
      "50000/50000 [==============================] - 4s 81us/step - loss: 1.0076 - accuracy: 0.6608 - val_loss: 1.4613 - val_accuracy: 0.4923\n",
      "Epoch 24/25\n",
      "50000/50000 [==============================] - 4s 83us/step - loss: 0.9892 - accuracy: 0.6665 - val_loss: 1.4673 - val_accuracy: 0.4950\n",
      "Epoch 25/25\n",
      "50000/50000 [==============================] - 4s 83us/step - loss: 0.9679 - accuracy: 0.6761 - val_loss: 1.4601 - val_accuracy: 0.4972\n"
     ]
    }
   ],
   "source": [
    "model = build_mlp(input_shape=x_train.shape[1:])\n",
    "model.summary()\n",
    "optimizer = keras.optimizers.SGD(lr=LEARNING_RATE, nesterov=True, momentum=MOMENTUM)\n",
    "model.compile(loss=\"categorical_crossentropy\", metrics=[\"accuracy\"], optimizer=optimizer)\n",
    "\n",
    "model.fit(x_train, y_train, \n",
    "          epochs=EPOCHS, \n",
    "          batch_size=BATCH_SIZE, \n",
    "          validation_data=(x_test, y_test), \n",
    "          shuffle=True,\n",
    "          callbacks=[rec_tptn]\n",
    "         )\n",
    "\n",
    "# Collect results\n",
    "train_loss = model.history.history[\"loss\"]\n",
    "valid_loss = model.history.history[\"val_loss\"]\n",
    "train_acc = model.history.history[\"accuracy\"]\n",
    "valid_acc = model.history.history[\"val_accuracy\"]\n",
    "\n",
    "valid_tp = model.history.history['val_tp']\n",
    "valid_tn = model.history.history['val_tn']"
   ]
  },
  {
   "cell_type": "code",
   "execution_count": 9,
   "metadata": {},
   "outputs": [
    {
     "data": {
      "image/png": "[encoded data removed]",
      "text/plain": [
       "<Figure size 432x288 with 1 Axes>"
      ]
     },
     "metadata": {
      "needs_background": "light"
     },
     "output_type": "display_data"
    },
    {
     "data": {
      "image/png": "[encoded data removed]",
      "text/plain": [
       "<Figure size 432x288 with 1 Axes>"
      ]
     },
     "metadata": {
      "needs_background": "light"
     },
     "output_type": "display_data"
    },
    {
     "data": {
      "image/png": "[encoded data removed]",
      "text/plain": [
       "<Figure size 432x288 with 1 Axes>"
      ]
     },
     "metadata": {
      "needs_background": "light"
     },
     "output_type": "display_data"
    }
   ],
   "source": [
    "import matplotlib.pyplot as plt\n",
    "%matplotlib inline\n",
    "\n",
    "plt.plot(range(len(train_loss)), train_loss, label=\"train loss\")\n",
    "plt.plot(range(len(valid_loss)), valid_loss, label=\"valid loss\")\n",
    "plt.legend()\n",
    "plt.title(\"Loss\")\n",
    "plt.show()\n",
    "\n",
    "plt.plot(range(len(train_acc)), train_acc, label=\"train accuracy\")\n",
    "plt.plot(range(len(valid_acc)), valid_acc, label=\"valid accuracy\")\n",
    "plt.legend()\n",
    "plt.title(\"Accuracy\")\n",
    "plt.show()\n",
    "\n",
    "plt.plot(range(len(valid_tp)), valid_tp, label=\"valid tp\", color=\"navy\")\n",
    "plt.plot(range(len(valid_tn)), valid_tn, label=\"valid tn\", color=\"red\")\n",
    "plt.legend()\n",
    "plt.title(\"True positives and True Negatives\")\n",
    "plt.show()\n"
   ]
  }
 ],
 "metadata": {
  "kernelspec": {
   "display_name": "Python 3",
   "language": "python",
   "name": "python3"
  },
  "language_info": {
   "codemirror_mode": {
    "name": "ipython",
    "version": 3
   },
   "file_extension": ".py",
   "mimetype": "text/x-python",
   "name": "python",
   "nbconvert_exporter": "python",
   "pygments_lexer": "ipython3",
   "version": "3.7.4"
  }
 },
 "nbformat": 4,
 "nbformat_minor": 2
}
