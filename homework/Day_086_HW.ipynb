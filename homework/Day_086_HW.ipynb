{
 "cells": [
  {
   "cell_type": "markdown",
   "metadata": {},
   "source": [
    "## Work\n",
    "1. 試比較 save_best_only 與否的差異\n",
    "2. 請僅存入將 save_weights_only 設定為 True, 並嘗試 reset ipynb 並將模型與權重重新建回並預測 x_test"
   ]
  },
  {
   "cell_type": "code",
   "execution_count": 1,
   "metadata": {},
   "outputs": [
    {
     "name": "stderr",
     "output_type": "stream",
     "text": [
      "Using TensorFlow backend.\n"
     ]
    }
   ],
   "source": [
    "import os\n",
    "import keras\n",
    "\n",
    "# Disable GPU\n",
    "os.environ[\"CUDA_VISIBLE_DEVICES\"] = \"\""
   ]
  },
  {
   "cell_type": "code",
   "execution_count": 2,
   "metadata": {},
   "outputs": [],
   "source": [
    "train, test = keras.datasets.cifar10.load_data()"
   ]
  },
  {
   "cell_type": "code",
   "execution_count": 3,
   "metadata": {},
   "outputs": [],
   "source": [
    "## 資料前處理\n",
    "def preproc_x(x, flatten=True):\n",
    "    x = x / 255.\n",
    "    if flatten:\n",
    "        x = x.reshape((len(x), -1))\n",
    "    return x\n",
    "\n",
    "def preproc_y(y, num_classes=10):\n",
    "    if y.shape[-1] == 1:\n",
    "        y = keras.utils.to_categorical(y, num_classes)\n",
    "    return y    "
   ]
  },
  {
   "cell_type": "code",
   "execution_count": 4,
   "metadata": {},
   "outputs": [],
   "source": [
    "x_train, y_train = train\n",
    "x_test, y_test = test\n",
    "\n",
    "# Preproc the inputs\n",
    "x_train = preproc_x(x_train)\n",
    "x_test = preproc_x(x_test)\n",
    "\n",
    "# Preprc the outputs\n",
    "y_train = preproc_y(y_train)\n",
    "y_test = preproc_y(y_test)"
   ]
  },
  {
   "cell_type": "code",
   "execution_count": 5,
   "metadata": {},
   "outputs": [],
   "source": [
    "from keras.layers import BatchNormalization\n",
    "\n",
    "\"\"\"\n",
    "建立神經網路，並加入 BN layer\n",
    "\"\"\"\n",
    "def build_mlp(input_shape, output_units=10, num_neurons=[512, 256, 128]):\n",
    "    input_layer = keras.layers.Input(input_shape)\n",
    "    \n",
    "    for i, n_units in enumerate(num_neurons):\n",
    "        if i == 0:\n",
    "            x = keras.layers.Dense(units=n_units, \n",
    "                                   activation=\"relu\", \n",
    "                                   name=\"hidden_layer\"+str(i+1))(input_layer)\n",
    "            x = BatchNormalization()(x)\n",
    "        else:\n",
    "            x = keras.layers.Dense(units=n_units, \n",
    "                                   activation=\"relu\", \n",
    "                                   name=\"hidden_layer\"+str(i+1))(x)\n",
    "            x = BatchNormalization()(x)\n",
    "    \n",
    "    out = keras.layers.Dense(units=output_units, activation=\"softmax\", name=\"output\")(x)\n",
    "    \n",
    "    model = keras.models.Model(inputs=[input_layer], outputs=[out])\n",
    "    return model"
   ]
  },
  {
   "cell_type": "code",
   "execution_count": 6,
   "metadata": {},
   "outputs": [],
   "source": [
    "\"\"\"Code Here\n",
    "設定超參數\n",
    "\"\"\"\n",
    "LEARNING_RATE = 1e-3\n",
    "EPOCHS = 50\n",
    "BATCH_SIZE = 1024\n",
    "MOMENTUM = 0.95"
   ]
  },
  {
   "cell_type": "code",
   "execution_count": 7,
   "metadata": {},
   "outputs": [
    {
     "name": "stdout",
     "output_type": "stream",
     "text": [
      "Model: \"model_1\"\n",
      "_________________________________________________________________\n",
      "Layer (type)                 Output Shape              Param #   \n",
      "=================================================================\n",
      "input_1 (InputLayer)         (None, 3072)              0         \n",
      "_________________________________________________________________\n",
      "hidden_layer1 (Dense)        (None, 512)               1573376   \n",
      "_________________________________________________________________\n",
      "batch_normalization_1 (Batch (None, 512)               2048      \n",
      "_________________________________________________________________\n",
      "hidden_layer2 (Dense)        (None, 256)               131328    \n",
      "_________________________________________________________________\n",
      "batch_normalization_2 (Batch (None, 256)               1024      \n",
      "_________________________________________________________________\n",
      "hidden_layer3 (Dense)        (None, 128)               32896     \n",
      "_________________________________________________________________\n",
      "batch_normalization_3 (Batch (None, 128)               512       \n",
      "_________________________________________________________________\n",
      "output (Dense)               (None, 10)                1290      \n",
      "=================================================================\n",
      "Total params: 1,742,474\n",
      "Trainable params: 1,740,682\n",
      "Non-trainable params: 1,792\n",
      "_________________________________________________________________\n",
      "Train on 50000 samples, validate on 10000 samples\n",
      "Epoch 1/50\n",
      "50000/50000 [==============================] - 4s 83us/step - loss: 2.1984 - accuracy: 0.2660 - val_loss: 2.1695 - val_accuracy: 0.1915\n",
      "Epoch 2/50\n",
      "50000/50000 [==============================] - 4s 78us/step - loss: 1.7507 - accuracy: 0.3904 - val_loss: 1.9880 - val_accuracy: 0.2636\n",
      "Epoch 3/50\n",
      "50000/50000 [==============================] - 4s 70us/step - loss: 1.6258 - accuracy: 0.4314 - val_loss: 1.8144 - val_accuracy: 0.3633\n",
      "Epoch 4/50\n",
      "50000/50000 [==============================] - 4s 71us/step - loss: 1.5518 - accuracy: 0.4571 - val_loss: 1.7231 - val_accuracy: 0.3879\n",
      "Epoch 5/50\n",
      "50000/50000 [==============================] - 4s 72us/step - loss: 1.4952 - accuracy: 0.4771 - val_loss: 1.6365 - val_accuracy: 0.4279\n",
      "Epoch 6/50\n",
      "50000/50000 [==============================] - 4s 75us/step - loss: 1.4499 - accuracy: 0.4927 - val_loss: 1.5887 - val_accuracy: 0.4446\n",
      "Epoch 7/50\n",
      "50000/50000 [==============================] - 4s 73us/step - loss: 1.4118 - accuracy: 0.5061 - val_loss: 1.5482 - val_accuracy: 0.4523\n",
      "Epoch 8/50\n",
      "50000/50000 [==============================] - 4s 75us/step - loss: 1.3749 - accuracy: 0.5226 - val_loss: 1.5221 - val_accuracy: 0.4580\n",
      "Epoch 9/50\n",
      "50000/50000 [==============================] - 4s 73us/step - loss: 1.3439 - accuracy: 0.5333 - val_loss: 1.5045 - val_accuracy: 0.4661\n",
      "Epoch 10/50\n",
      "50000/50000 [==============================] - 4s 77us/step - loss: 1.3114 - accuracy: 0.5466 - val_loss: 1.4945 - val_accuracy: 0.4694\n",
      "Epoch 11/50\n",
      "50000/50000 [==============================] - 4s 73us/step - loss: 1.2818 - accuracy: 0.5557 - val_loss: 1.4730 - val_accuracy: 0.4785\n",
      "Epoch 12/50\n",
      "50000/50000 [==============================] - 4s 76us/step - loss: 1.2545 - accuracy: 0.5665 - val_loss: 1.4759 - val_accuracy: 0.4750\n",
      "Epoch 13/50\n",
      "50000/50000 [==============================] - 4s 71us/step - loss: 1.2288 - accuracy: 0.5771 - val_loss: 1.4636 - val_accuracy: 0.4810\n",
      "Epoch 14/50\n",
      "50000/50000 [==============================] - 4s 75us/step - loss: 1.2043 - accuracy: 0.5857 - val_loss: 1.4760 - val_accuracy: 0.4790\n",
      "Epoch 15/50\n",
      "50000/50000 [==============================] - 4s 72us/step - loss: 1.1794 - accuracy: 0.5928 - val_loss: 1.4654 - val_accuracy: 0.4803\n",
      "Epoch 16/50\n",
      "50000/50000 [==============================] - 4s 73us/step - loss: 1.1542 - accuracy: 0.6020 - val_loss: 1.4488 - val_accuracy: 0.4887\n",
      "Epoch 17/50\n",
      "50000/50000 [==============================] - 4s 78us/step - loss: 1.1322 - accuracy: 0.6117 - val_loss: 1.4562 - val_accuracy: 0.4901\n",
      "Epoch 18/50\n",
      "50000/50000 [==============================] - 4s 78us/step - loss: 1.1079 - accuracy: 0.6223 - val_loss: 1.4470 - val_accuracy: 0.4915\n",
      "Epoch 19/50\n",
      "50000/50000 [==============================] - 4s 79us/step - loss: 1.0854 - accuracy: 0.6309 - val_loss: 1.4450 - val_accuracy: 0.4881\n",
      "Epoch 20/50\n",
      "50000/50000 [==============================] - 4s 79us/step - loss: 1.0639 - accuracy: 0.6388 - val_loss: 1.4468 - val_accuracy: 0.4923\n",
      "Epoch 21/50\n",
      "50000/50000 [==============================] - 4s 76us/step - loss: 1.0428 - accuracy: 0.6467 - val_loss: 1.4384 - val_accuracy: 0.4924\n",
      "Epoch 22/50\n",
      "50000/50000 [==============================] - 4s 82us/step - loss: 1.0219 - accuracy: 0.6531 - val_loss: 1.4417 - val_accuracy: 0.4919\n",
      "Epoch 23/50\n",
      "50000/50000 [==============================] - 4s 82us/step - loss: 1.0001 - accuracy: 0.6642 - val_loss: 1.4453 - val_accuracy: 0.4975\n",
      "Epoch 24/50\n",
      "50000/50000 [==============================] - 4s 78us/step - loss: 0.9770 - accuracy: 0.6735 - val_loss: 1.4491 - val_accuracy: 0.4960\n",
      "Epoch 25/50\n",
      "50000/50000 [==============================] - 4s 75us/step - loss: 0.9575 - accuracy: 0.6787 - val_loss: 1.4583 - val_accuracy: 0.4895\n",
      "Epoch 26/50\n",
      "50000/50000 [==============================] - 4s 78us/step - loss: 0.9383 - accuracy: 0.6864 - val_loss: 1.4437 - val_accuracy: 0.4980\n",
      "Epoch 27/50\n",
      "50000/50000 [==============================] - 4s 80us/step - loss: 0.9146 - accuracy: 0.6966 - val_loss: 1.4545 - val_accuracy: 0.4971\n",
      "Epoch 28/50\n",
      "50000/50000 [==============================] - 4s 77us/step - loss: 0.8944 - accuracy: 0.7038 - val_loss: 1.4641 - val_accuracy: 0.4993\n",
      "Epoch 29/50\n",
      "50000/50000 [==============================] - 4s 76us/step - loss: 0.8746 - accuracy: 0.7110 - val_loss: 1.4728 - val_accuracy: 0.4979\n",
      "Epoch 30/50\n",
      "50000/50000 [==============================] - 4s 77us/step - loss: 0.8558 - accuracy: 0.7175 - val_loss: 1.4721 - val_accuracy: 0.4973\n",
      "Epoch 31/50\n",
      "50000/50000 [==============================] - 4s 81us/step - loss: 0.8345 - accuracy: 0.7261 - val_loss: 1.4847 - val_accuracy: 0.4945\n",
      "Epoch 32/50\n",
      "50000/50000 [==============================] - 4s 79us/step - loss: 0.8148 - accuracy: 0.7347 - val_loss: 1.4775 - val_accuracy: 0.4971\n",
      "Epoch 33/50\n",
      "50000/50000 [==============================] - 4s 76us/step - loss: 0.7952 - accuracy: 0.7431 - val_loss: 1.4864 - val_accuracy: 0.4978\n",
      "Epoch 34/50\n",
      "50000/50000 [==============================] - 4s 72us/step - loss: 0.7760 - accuracy: 0.7490 - val_loss: 1.4859 - val_accuracy: 0.4992\n",
      "Epoch 35/50\n",
      "50000/50000 [==============================] - 4s 74us/step - loss: 0.7591 - accuracy: 0.7556 - val_loss: 1.4995 - val_accuracy: 0.4948\n",
      "Epoch 36/50\n",
      "50000/50000 [==============================] - 4s 77us/step - loss: 0.7385 - accuracy: 0.7670 - val_loss: 1.5045 - val_accuracy: 0.4938\n",
      "Epoch 37/50\n",
      "50000/50000 [==============================] - 4s 84us/step - loss: 0.7196 - accuracy: 0.7720 - val_loss: 1.5253 - val_accuracy: 0.4940\n",
      "Epoch 38/50\n",
      "50000/50000 [==============================] - 4s 81us/step - loss: 0.7010 - accuracy: 0.7790 - val_loss: 1.5157 - val_accuracy: 0.5002\n",
      "Epoch 39/50\n",
      "50000/50000 [==============================] - 4s 79us/step - loss: 0.6823 - accuracy: 0.7866 - val_loss: 1.5168 - val_accuracy: 0.4983\n",
      "Epoch 40/50\n",
      "50000/50000 [==============================] - 4s 74us/step - loss: 0.6641 - accuracy: 0.7937 - val_loss: 1.5369 - val_accuracy: 0.4966\n",
      "Epoch 41/50\n",
      "50000/50000 [==============================] - 4s 70us/step - loss: 0.6461 - accuracy: 0.8003 - val_loss: 1.5708 - val_accuracy: 0.4920\n",
      "Epoch 42/50\n",
      "50000/50000 [==============================] - 4s 70us/step - loss: 0.6267 - accuracy: 0.8097 - val_loss: 1.5774 - val_accuracy: 0.4869\n",
      "Epoch 43/50\n",
      "50000/50000 [==============================] - 4s 71us/step - loss: 0.6102 - accuracy: 0.8162 - val_loss: 1.5837 - val_accuracy: 0.4899\n",
      "Epoch 44/50\n",
      "50000/50000 [==============================] - 3s 70us/step - loss: 0.5932 - accuracy: 0.8229 - val_loss: 1.5907 - val_accuracy: 0.4910\n",
      "Epoch 45/50\n",
      "50000/50000 [==============================] - 3s 69us/step - loss: 0.5741 - accuracy: 0.8312 - val_loss: 1.5972 - val_accuracy: 0.4933\n",
      "Epoch 46/50\n"
     ]
    },
    {
     "name": "stdout",
     "output_type": "stream",
     "text": [
      "50000/50000 [==============================] - 3s 68us/step - loss: 0.5581 - accuracy: 0.8363 - val_loss: 1.5935 - val_accuracy: 0.4900\n",
      "Epoch 47/50\n",
      "50000/50000 [==============================] - 3s 68us/step - loss: 0.5381 - accuracy: 0.8441 - val_loss: 1.6047 - val_accuracy: 0.4964\n",
      "Epoch 48/50\n",
      "50000/50000 [==============================] - 3s 69us/step - loss: 0.5226 - accuracy: 0.8495 - val_loss: 1.6455 - val_accuracy: 0.4893\n",
      "Epoch 49/50\n",
      "50000/50000 [==============================] - 3s 69us/step - loss: 0.5077 - accuracy: 0.8576 - val_loss: 1.6351 - val_accuracy: 0.4895\n",
      "Epoch 50/50\n",
      "50000/50000 [==============================] - 4s 74us/step - loss: 0.4912 - accuracy: 0.8655 - val_loss: 1.6669 - val_accuracy: 0.4895\n",
      "10000/10000 [==============================] - 1s 80us/step\n"
     ]
    }
   ],
   "source": [
    "# 載入 Callbacks\n",
    "\"\"\"Code Here\n",
    "設定 callbacks: model checkpoint\n",
    "\"\"\"\n",
    "from keras.callbacks import ModelCheckpoint\n",
    "\n",
    "model_ckpt = ModelCheckpoint(filepath=\"./tmp.h5\", \n",
    "                             monitor=\"val_loss\", \n",
    "                             save_best_only=True)\n",
    "results = {}\n",
    "\"\"\"Code Here\n",
    "撰寫你的訓練流程並將結果用 dictionary 紀錄\n",
    "\"\"\"\n",
    "model = build_mlp(input_shape=x_train.shape[1:])\n",
    "model.summary()\n",
    "optimizer = keras.optimizers.SGD(lr=LEARNING_RATE, nesterov=True, momentum=MOMENTUM)\n",
    "model.compile(loss=\"categorical_crossentropy\", metrics=[\"accuracy\"], optimizer=optimizer)\n",
    "\n",
    "model.fit(x_train, y_train, \n",
    "          epochs=EPOCHS, \n",
    "          batch_size=BATCH_SIZE, \n",
    "          validation_data=(x_test, y_test), \n",
    "          shuffle=True,\n",
    "          callbacks=[model_ckpt]\n",
    "         )\n",
    "\n",
    "# Collect results\n",
    "train_loss = model.history.history[\"loss\"]\n",
    "valid_loss = model.history.history[\"val_loss\"]\n",
    "train_acc = model.history.history[\"accuracy\"]\n",
    "valid_acc = model.history.history[\"val_accuracy\"]\n",
    "\n",
    "# Load back\n",
    "model = keras.models.load_model(\"./tmp.h5\")\n",
    "loss_loadback, acc_loadback = model.evaluate(x_test, y_test)"
   ]
  },
  {
   "cell_type": "code",
   "execution_count": 8,
   "metadata": {
    "scrolled": true
   },
   "outputs": [
    {
     "data": {
      "image/png": "[encoded data removed]",
      "text/plain": [
       "<Figure size 432x288 with 1 Axes>"
      ]
     },
     "metadata": {
      "needs_background": "light"
     },
     "output_type": "display_data"
    },
    {
     "data": {
      "image/png": "[encoded data removed]",
      "text/plain": [
       "<Figure size 432x288 with 1 Axes>"
      ]
     },
     "metadata": {
      "needs_background": "light"
     },
     "output_type": "display_data"
    }
   ],
   "source": [
    "import matplotlib.pyplot as plt\n",
    "%matplotlib inline\n",
    "\"\"\"Code Here\n",
    "將結果繪出\n",
    "\"\"\"\n",
    "import matplotlib.pyplot as plt\n",
    "%matplotlib inline\n",
    "\n",
    "plt.plot(range(len(train_loss)), train_loss, label=\"train loss\")\n",
    "plt.plot(range(len(valid_loss)), valid_loss, label=\"valid loss\")\n",
    "plt.hlines(y=loss_loadback, xmin=0, xmax=len(train_loss), colors='r', linestyles='--')\n",
    "plt.legend()\n",
    "plt.title(\"Loss\")\n",
    "plt.show()\n",
    "\n",
    "plt.plot(range(len(train_acc)), train_acc, label=\"train accuracy\")\n",
    "plt.plot(range(len(valid_acc)), valid_acc, label=\"valid accuracy\")\n",
    "plt.hlines(y=acc_loadback, xmin=0, xmax=len(train_loss), colors='r', linestyles='--')\n",
    "plt.legend()\n",
    "plt.title(\"Accuracy\")\n",
    "plt.show()"
   ]
  }
 ],
 "metadata": {
  "kernelspec": {
   "display_name": "Python 3",
   "language": "python",
   "name": "python3"
  },
  "language_info": {
   "codemirror_mode": {
    "name": "ipython",
    "version": 3
   },
   "file_extension": ".py",
   "mimetype": "text/x-python",
   "name": "python",
   "nbconvert_exporter": "python",
   "pygments_lexer": "ipython3",
   "version": "3.7.4"
  }
 },
 "nbformat": 4,
 "nbformat_minor": 2
}
