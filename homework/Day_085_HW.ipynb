{
 "cells": [
  {
   "cell_type": "markdown",
   "metadata": {},
   "source": [
    "## Work\n",
    "1. 試改變 monitor \"Validation Accuracy\" 並比較結果\n",
    "2. 調整 earlystop 的等待次數至 10, 25 並比較結果"
   ]
  },
  {
   "cell_type": "code",
   "execution_count": 1,
   "metadata": {},
   "outputs": [
    {
     "name": "stderr",
     "output_type": "stream",
     "text": [
      "Using TensorFlow backend.\n"
     ]
    }
   ],
   "source": [
    "import os\n",
    "import keras\n",
    "import matplotlib.pyplot as plt\n",
    "%matplotlib inline\n",
    "\n",
    "\n",
    "# Disable GPU\n",
    "os.environ[\"CUDA_VISIBLE_DEVICES\"] = \"\""
   ]
  },
  {
   "cell_type": "code",
   "execution_count": 2,
   "metadata": {},
   "outputs": [],
   "source": [
    "train, test = keras.datasets.cifar10.load_data()"
   ]
  },
  {
   "cell_type": "code",
   "execution_count": 3,
   "metadata": {},
   "outputs": [],
   "source": [
    "## 資料前處理\n",
    "def preproc_x(x, flatten=True):\n",
    "    x = x / 255.\n",
    "    if flatten:\n",
    "        x = x.reshape((len(x), -1))\n",
    "    return x\n",
    "\n",
    "def preproc_y(y, num_classes=10):\n",
    "    if y.shape[-1] == 1:\n",
    "        y = keras.utils.to_categorical(y, num_classes)\n",
    "    return y    "
   ]
  },
  {
   "cell_type": "code",
   "execution_count": 4,
   "metadata": {},
   "outputs": [],
   "source": [
    "x_train, y_train = train\n",
    "x_test, y_test = test\n",
    "\n",
    "# Preproc the inputs\n",
    "x_train = preproc_x(x_train)\n",
    "x_test = preproc_x(x_test)\n",
    "\n",
    "# Preprc the outputs\n",
    "y_train = preproc_y(y_train)\n",
    "y_test = preproc_y(y_test)"
   ]
  },
  {
   "cell_type": "code",
   "execution_count": 5,
   "metadata": {},
   "outputs": [],
   "source": [
    "from keras.layers import BatchNormalization\n",
    "\n",
    "\"\"\"\n",
    "建立神經網路，並加入 BN layer\n",
    "\"\"\"\n",
    "def build_mlp(input_shape, output_units=10, num_neurons=[512, 256, 128]):\n",
    "    input_layer = keras.layers.Input(input_shape)\n",
    "    \n",
    "    for i, n_units in enumerate(num_neurons):\n",
    "        if i == 0:\n",
    "            x = keras.layers.Dense(units=n_units, \n",
    "                                   activation=\"relu\", \n",
    "                                   name=\"hidden_layer\"+str(i+1))(input_layer)\n",
    "            x = BatchNormalization()(x)\n",
    "        else:\n",
    "            x = keras.layers.Dense(units=n_units, \n",
    "                                   activation=\"relu\", \n",
    "                                   name=\"hidden_layer\"+str(i+1))(x)\n",
    "            x = BatchNormalization()(x)\n",
    "    \n",
    "    out = keras.layers.Dense(units=output_units, activation=\"softmax\", name=\"output\")(x)\n",
    "    \n",
    "    model = keras.models.Model(inputs=[input_layer], outputs=[out])\n",
    "    return model"
   ]
  },
  {
   "cell_type": "code",
   "execution_count": 6,
   "metadata": {},
   "outputs": [],
   "source": [
    "\"\"\"Code Here\n",
    "設定超參數\n",
    "\"\"\"\n",
    "LEARNING_RATE = 1e-3\n",
    "EPOCHS = 50\n",
    "BATCH_SIZE = 1024\n",
    "MOMENTUM = 0.95"
   ]
  },
  {
   "cell_type": "code",
   "execution_count": 8,
   "metadata": {
    "scrolled": true
   },
   "outputs": [
    {
     "name": "stdout",
     "output_type": "stream",
     "text": [
      "Model: \"model_2\"\n",
      "_________________________________________________________________\n",
      "Layer (type)                 Output Shape              Param #   \n",
      "=================================================================\n",
      "input_2 (InputLayer)         (None, 3072)              0         \n",
      "_________________________________________________________________\n",
      "hidden_layer1 (Dense)        (None, 512)               1573376   \n",
      "_________________________________________________________________\n",
      "batch_normalization_4 (Batch (None, 512)               2048      \n",
      "_________________________________________________________________\n",
      "hidden_layer2 (Dense)        (None, 256)               131328    \n",
      "_________________________________________________________________\n",
      "batch_normalization_5 (Batch (None, 256)               1024      \n",
      "_________________________________________________________________\n",
      "hidden_layer3 (Dense)        (None, 128)               32896     \n",
      "_________________________________________________________________\n",
      "batch_normalization_6 (Batch (None, 128)               512       \n",
      "_________________________________________________________________\n",
      "output (Dense)               (None, 10)                1290      \n",
      "=================================================================\n",
      "Total params: 1,742,474\n",
      "Trainable params: 1,740,682\n",
      "Non-trainable params: 1,792\n",
      "_________________________________________________________________\n",
      "Train on 50000 samples, validate on 10000 samples\n",
      "Epoch 1/50\n",
      "50000/50000 [==============================] - 4s 76us/step - loss: 2.2365 - accuracy: 0.2622 - val_loss: 2.1092 - val_accuracy: 0.2078\n",
      "Epoch 2/50\n",
      "50000/50000 [==============================] - 3s 63us/step - loss: 1.7508 - accuracy: 0.3884 - val_loss: 1.9969 - val_accuracy: 0.2740\n",
      "Epoch 3/50\n",
      "50000/50000 [==============================] - 3s 63us/step - loss: 1.6255 - accuracy: 0.4290 - val_loss: 1.8689 - val_accuracy: 0.3223\n",
      "Epoch 4/50\n",
      "50000/50000 [==============================] - 3s 65us/step - loss: 1.5507 - accuracy: 0.4549 - val_loss: 1.7453 - val_accuracy: 0.3773\n",
      "Epoch 5/50\n",
      "50000/50000 [==============================] - 3s 65us/step - loss: 1.4965 - accuracy: 0.4751 - val_loss: 1.6665 - val_accuracy: 0.4106\n",
      "Epoch 6/50\n",
      "50000/50000 [==============================] - 3s 66us/step - loss: 1.4528 - accuracy: 0.4907 - val_loss: 1.5980 - val_accuracy: 0.4360\n",
      "Epoch 7/50\n",
      "50000/50000 [==============================] - 3s 66us/step - loss: 1.4119 - accuracy: 0.5045 - val_loss: 1.5545 - val_accuracy: 0.4525\n",
      "Epoch 8/50\n",
      "50000/50000 [==============================] - 3s 67us/step - loss: 1.3761 - accuracy: 0.5181 - val_loss: 1.5412 - val_accuracy: 0.4533\n",
      "Epoch 9/50\n",
      "50000/50000 [==============================] - 3s 67us/step - loss: 1.3424 - accuracy: 0.5306 - val_loss: 1.5257 - val_accuracy: 0.4601\n",
      "Epoch 10/50\n",
      "50000/50000 [==============================] - 3s 67us/step - loss: 1.3126 - accuracy: 0.5423 - val_loss: 1.4947 - val_accuracy: 0.4713\n",
      "Epoch 11/50\n",
      "50000/50000 [==============================] - 3s 67us/step - loss: 1.2850 - accuracy: 0.5523 - val_loss: 1.4853 - val_accuracy: 0.4742\n",
      "Epoch 12/50\n",
      "50000/50000 [==============================] - 3s 68us/step - loss: 1.2568 - accuracy: 0.5639 - val_loss: 1.4865 - val_accuracy: 0.4742\n",
      "Epoch 13/50\n",
      "50000/50000 [==============================] - 3s 68us/step - loss: 1.2304 - accuracy: 0.5752 - val_loss: 1.4800 - val_accuracy: 0.4768\n",
      "Epoch 14/50\n",
      "50000/50000 [==============================] - 4s 71us/step - loss: 1.2049 - accuracy: 0.5828 - val_loss: 1.4817 - val_accuracy: 0.4818\n",
      "Epoch 15/50\n",
      "50000/50000 [==============================] - 4s 70us/step - loss: 1.1812 - accuracy: 0.5933 - val_loss: 1.4729 - val_accuracy: 0.4798\n",
      "Epoch 16/50\n",
      "50000/50000 [==============================] - 4s 71us/step - loss: 1.1564 - accuracy: 0.5993 - val_loss: 1.4706 - val_accuracy: 0.4792\n",
      "Epoch 17/50\n",
      "50000/50000 [==============================] - 4s 70us/step - loss: 1.1325 - accuracy: 0.6100 - val_loss: 1.4644 - val_accuracy: 0.4806\n",
      "Epoch 18/50\n",
      "50000/50000 [==============================] - 4s 70us/step - loss: 1.1111 - accuracy: 0.6179 - val_loss: 1.4604 - val_accuracy: 0.4858\n",
      "Epoch 19/50\n",
      "50000/50000 [==============================] - 4s 70us/step - loss: 1.0866 - accuracy: 0.6305 - val_loss: 1.4610 - val_accuracy: 0.4884\n",
      "Epoch 20/50\n",
      "50000/50000 [==============================] - 4s 70us/step - loss: 1.0655 - accuracy: 0.6379 - val_loss: 1.4638 - val_accuracy: 0.4828\n",
      "Epoch 21/50\n",
      "50000/50000 [==============================] - 4s 71us/step - loss: 1.0443 - accuracy: 0.6448 - val_loss: 1.4580 - val_accuracy: 0.4910\n",
      "Epoch 22/50\n",
      "50000/50000 [==============================] - 4s 71us/step - loss: 1.0222 - accuracy: 0.6550 - val_loss: 1.4654 - val_accuracy: 0.4894\n",
      "Epoch 23/50\n",
      "50000/50000 [==============================] - 4s 71us/step - loss: 1.0006 - accuracy: 0.6611 - val_loss: 1.4621 - val_accuracy: 0.4927\n",
      "Epoch 24/50\n",
      "50000/50000 [==============================] - 4s 71us/step - loss: 0.9790 - accuracy: 0.6697 - val_loss: 1.4677 - val_accuracy: 0.4901\n",
      "Epoch 25/50\n",
      "50000/50000 [==============================] - 4s 71us/step - loss: 0.9583 - accuracy: 0.6795 - val_loss: 1.4669 - val_accuracy: 0.4951\n",
      "Epoch 26/50\n",
      "50000/50000 [==============================] - 4s 71us/step - loss: 0.9371 - accuracy: 0.6864 - val_loss: 1.4698 - val_accuracy: 0.4943\n",
      "Epoch 00026: early stopping\n"
     ]
    }
   ],
   "source": [
    "# 載入 Callbacks\n",
    "\"\"\"Code Here\n",
    "設定 callbacks: Earlystop\n",
    "\"\"\"\n",
    "from keras.callbacks import EarlyStopping\n",
    "\n",
    "earlystop = EarlyStopping(monitor=\"val_loss\", \n",
    "                          patience=5, \n",
    "                          verbose=1\n",
    "                          )\n",
    "results = {}\n",
    "\"\"\"Code Here\n",
    "撰寫你的訓練流程並將結果用 dictionary 紀錄\n",
    "\"\"\"\n",
    "model = build_mlp(input_shape=x_train.shape[1:])\n",
    "model.summary()\n",
    "optimizer = keras.optimizers.SGD(lr=LEARNING_RATE, nesterov=True, momentum=MOMENTUM)\n",
    "model.compile(loss=\"categorical_crossentropy\", metrics=[\"accuracy\"], optimizer=optimizer)\n",
    "\n",
    "model.fit(x_train, y_train, \n",
    "          epochs=EPOCHS, \n",
    "          batch_size=BATCH_SIZE, \n",
    "          validation_data=(x_test, y_test), \n",
    "          shuffle=True,\n",
    "          callbacks=[earlystop]\n",
    "         )\n",
    "\n",
    "# Collect results\n",
    "train_loss = model.history.history[\"loss\"]\n",
    "valid_loss = model.history.history[\"val_loss\"]\n",
    "train_acc = model.history.history[\"accuracy\"]\n",
    "valid_acc = model.history.history[\"val_accuracy\"]"
   ]
  },
  {
   "cell_type": "code",
   "execution_count": 9,
   "metadata": {},
   "outputs": [
    {
     "data": {
      "image/png": "[encoded data removed]",
      "text/plain": [
       "<Figure size 432x288 with 1 Axes>"
      ]
     },
     "metadata": {
      "needs_background": "light"
     },
     "output_type": "display_data"
    },
    {
     "data": {
      "image/png": "[encoded data removed]",
      "text/plain": [
       "<Figure size 432x288 with 1 Axes>"
      ]
     },
     "metadata": {
      "needs_background": "light"
     },
     "output_type": "display_data"
    }
   ],
   "source": [
    "import matplotlib.pyplot as plt\n",
    "%matplotlib inline\n",
    "\n",
    "plt.plot(range(len(train_loss)), train_loss, label=\"train loss\")\n",
    "plt.plot(range(len(valid_loss)), valid_loss, label=\"valid loss\")\n",
    "plt.legend()\n",
    "plt.title(\"Loss\")\n",
    "plt.show()\n",
    "\n",
    "plt.plot(range(len(train_acc)), train_acc, label=\"train accuracy\")\n",
    "plt.plot(range(len(valid_acc)), valid_acc, label=\"valid accuracy\")\n",
    "plt.legend()\n",
    "plt.title(\"Accuracy\")\n",
    "plt.show()"
   ]
  },
  {
   "cell_type": "code",
   "execution_count": null,
   "metadata": {},
   "outputs": [],
   "source": []
  }
 ],
 "metadata": {
  "kernelspec": {
   "display_name": "Python 3",
   "language": "python",
   "name": "python3"
  },
  "language_info": {
   "codemirror_mode": {
    "name": "ipython",
    "version": 3
   },
   "file_extension": ".py",
   "mimetype": "text/x-python",
   "name": "python",
   "nbconvert_exporter": "python",
   "pygments_lexer": "ipython3",
   "version": "3.7.4"
  }
 },
 "nbformat": 4,
 "nbformat_minor": 2
}
