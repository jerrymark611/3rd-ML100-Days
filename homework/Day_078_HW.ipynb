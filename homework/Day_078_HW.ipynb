{
 "cells": [
  {
   "cell_type": "markdown",
   "metadata": {},
   "source": [
    "## Work\n",
    "1. 請嘗試將 preproc_x 替換成以每筆資料的 min/max 進行標準化至 -1 ~ 1 間，再進行訓練\n",
    "2. 請嘗試將 mlp 疊更深 (e.g 5~10 層)，進行訓練後觀察 learning curve 的走勢\n",
    "3. (optional) 請改用 GPU 進行訓練 (如果你有 GPU 的話)，比較使用 CPU 與 GPU 的訓練速度"
   ]
  },
  {
   "cell_type": "code",
   "execution_count": 1,
   "metadata": {},
   "outputs": [
    {
     "name": "stdout",
     "output_type": "stream",
     "text": [
      "Tue Jan 14 10:51:58 2020       \r\n",
      "+-----------------------------------------------------------------------------+\r\n",
      "| NVIDIA-SMI 440.44       Driver Version: 440.44       CUDA Version: 10.2     |\r\n",
      "|-------------------------------+----------------------+----------------------+\r\n",
      "| GPU  Name        Persistence-M| Bus-Id        Disp.A | Volatile Uncorr. ECC |\r\n",
      "| Fan  Temp  Perf  Pwr:Usage/Cap|         Memory-Usage | GPU-Util  Compute M. |\r\n",
      "|===============================+======================+======================|\r\n",
      "|   0  GeForce GTX 950M    Off  | 00000000:01:00.0 Off |                  N/A |\r\n",
      "| N/A   53C    P8    N/A /  N/A |    265MiB /  2004MiB |     16%      Default |\r\n",
      "+-------------------------------+----------------------+----------------------+\r\n",
      "                                                                               \r\n",
      "+-----------------------------------------------------------------------------+\r\n",
      "| Processes:                                                       GPU Memory |\r\n",
      "|  GPU       PID   Type   Process name                             Usage      |\r\n",
      "|=============================================================================|\r\n",
      "|    0      1334      G   /usr/lib/xorg/Xorg                           159MiB |\r\n",
      "|    0      1801      G   /usr/bin/gnome-shell                          52MiB |\r\n",
      "|    0      2940      G   ...uest-channel-token=14825571091457331242    49MiB |\r\n",
      "+-----------------------------------------------------------------------------+\r\n"
     ]
    }
   ],
   "source": [
    "## \n",
    "\"\"\"\n",
    "Your code here (optional)\n",
    "確認硬體資源\n",
    "\"\"\"\n",
    "!nvidia-smi"
   ]
  },
  {
   "cell_type": "code",
   "execution_count": 2,
   "metadata": {},
   "outputs": [
    {
     "name": "stderr",
     "output_type": "stream",
     "text": [
      "Using TensorFlow backend.\n"
     ]
    }
   ],
   "source": [
    "import os\n",
    "import keras\n",
    "\n",
    "# 請嘗試設定 GPU：os.environ\n",
    "os.environ[\"CUDA_VISIBLE_DEVICES\"] = \"\""
   ]
  },
  {
   "cell_type": "code",
   "execution_count": 3,
   "metadata": {},
   "outputs": [],
   "source": [
    "train, test = keras.datasets.cifar10.load_data()"
   ]
  },
  {
   "cell_type": "code",
   "execution_count": 28,
   "metadata": {},
   "outputs": [],
   "source": [
    "## 資料前處理\n",
    "\"\"\"\n",
    "Your code here\n",
    "\"\"\"\n",
    "def preproc_x(x, flatten=True):\n",
    "    x = ((x / 255.)-0.5)*2\n",
    "    if flatten:\n",
    "        x = x.reshape((len(x), -1))\n",
    "    return x\n",
    "    \n",
    "def preproc_y(y,num_classes=10):\n",
    "    if y.shape[-1] == 1:\n",
    "        y = keras.utils.to_categorical(y, num_classes)\n",
    "    return y  "
   ]
  },
  {
   "cell_type": "code",
   "execution_count": 29,
   "metadata": {},
   "outputs": [],
   "source": [
    "x_train, y_train = train\n",
    "x_test, y_test = test\n",
    "\n",
    "# Preproc the inputs\n",
    "x_train = preproc_x(x_train)\n",
    "x_test = preproc_x(x_test)\n",
    "\n",
    "# Preprc the outputs\n",
    "y_train = preproc_y(y_train)\n",
    "y_test = preproc_y(y_test)"
   ]
  },
  {
   "cell_type": "code",
   "execution_count": 30,
   "metadata": {},
   "outputs": [],
   "source": [
    "\"\"\"Code Here\n",
    "建立你的神經網路\n",
    "\"\"\"\n",
    "\n",
    "def build_mlp(input_shape, out_units=10, num_neurons=[512, 512, 256, 256, 256, 128, 128]):\n",
    "    input_layer = keras.layers.Input(input_shape)\n",
    "    for i, n_units in enumerate(num_neurons):\n",
    "        if i==0:\n",
    "            x = keras.layers.Dense(units=n_units, name=\"FC\"+str(i), activation='relu')(input_layer)\n",
    "            x = keras.layers.Dropout(0.2)(x)\n",
    "        else:\n",
    "            x = keras.layers.Dense(units=n_units, name=\"FC\"+str(i), activation='relu')(x)\n",
    "            x = keras.layers.Dropout(0.2)(x)\n",
    "    output_layer = keras.layers.Dense(units=10, activation='softmax')(x)\n",
    "\n",
    "    model = keras.models.Model(inputs=[input_layer], outputs=[output_layer])    \n",
    "    return model"
   ]
  },
  {
   "cell_type": "code",
   "execution_count": 31,
   "metadata": {},
   "outputs": [
    {
     "name": "stdout",
     "output_type": "stream",
     "text": [
      "Model: \"model_4\"\n",
      "_________________________________________________________________\n",
      "Layer (type)                 Output Shape              Param #   \n",
      "=================================================================\n",
      "input_4 (InputLayer)         (None, 3072)              0         \n",
      "_________________________________________________________________\n",
      "FC0 (Dense)                  (None, 512)               1573376   \n",
      "_________________________________________________________________\n",
      "dropout_8 (Dropout)          (None, 512)               0         \n",
      "_________________________________________________________________\n",
      "FC1 (Dense)                  (None, 512)               262656    \n",
      "_________________________________________________________________\n",
      "dropout_9 (Dropout)          (None, 512)               0         \n",
      "_________________________________________________________________\n",
      "FC2 (Dense)                  (None, 256)               131328    \n",
      "_________________________________________________________________\n",
      "dropout_10 (Dropout)         (None, 256)               0         \n",
      "_________________________________________________________________\n",
      "FC3 (Dense)                  (None, 256)               65792     \n",
      "_________________________________________________________________\n",
      "dropout_11 (Dropout)         (None, 256)               0         \n",
      "_________________________________________________________________\n",
      "FC4 (Dense)                  (None, 256)               65792     \n",
      "_________________________________________________________________\n",
      "dropout_12 (Dropout)         (None, 256)               0         \n",
      "_________________________________________________________________\n",
      "FC5 (Dense)                  (None, 128)               32896     \n",
      "_________________________________________________________________\n",
      "dropout_13 (Dropout)         (None, 128)               0         \n",
      "_________________________________________________________________\n",
      "FC6 (Dense)                  (None, 128)               16512     \n",
      "_________________________________________________________________\n",
      "dropout_14 (Dropout)         (None, 128)               0         \n",
      "_________________________________________________________________\n",
      "dense_2 (Dense)              (None, 10)                1290      \n",
      "=================================================================\n",
      "Total params: 2,149,642\n",
      "Trainable params: 2,149,642\n",
      "Non-trainable params: 0\n",
      "_________________________________________________________________\n"
     ]
    }
   ],
   "source": [
    "model = build_mlp(input_shape=x_train.shape[1:])\n",
    "model.summary()"
   ]
  },
  {
   "cell_type": "code",
   "execution_count": 32,
   "metadata": {},
   "outputs": [],
   "source": [
    "## 超參數設定\n",
    "LEARNING_RATE = 0.001\n",
    "EPOCHS = 100\n",
    "BATCH_SIZE = 256"
   ]
  },
  {
   "cell_type": "code",
   "execution_count": 33,
   "metadata": {},
   "outputs": [],
   "source": [
    "optimizer = keras.optimizers.Adam(lr=LEARNING_RATE)\n",
    "model.compile(loss=\"categorical_crossentropy\", metrics=[\"accuracy\"], optimizer=optimizer)"
   ]
  },
  {
   "cell_type": "code",
   "execution_count": 34,
   "metadata": {},
   "outputs": [
    {
     "name": "stdout",
     "output_type": "stream",
     "text": [
      "Train on 50000 samples, validate on 10000 samples\n",
      "Epoch 1/100\n",
      "50000/50000 [==============================] - 8s 155us/step - loss: 1.9550 - accuracy: 0.2850 - val_loss: 1.7185 - val_accuracy: 0.3915\n",
      "Epoch 2/100\n",
      "50000/50000 [==============================] - 8s 150us/step - loss: 1.7331 - accuracy: 0.3827 - val_loss: 1.5688 - val_accuracy: 0.4489\n",
      "Epoch 3/100\n",
      "50000/50000 [==============================] - 8s 166us/step - loss: 1.6301 - accuracy: 0.4226 - val_loss: 1.5268 - val_accuracy: 0.4614\n",
      "Epoch 4/100\n",
      "50000/50000 [==============================] - 9s 187us/step - loss: 1.5603 - accuracy: 0.4509 - val_loss: 1.4745 - val_accuracy: 0.4827\n",
      "Epoch 5/100\n",
      "50000/50000 [==============================] - 9s 183us/step - loss: 1.5101 - accuracy: 0.4694 - val_loss: 1.4422 - val_accuracy: 0.4884\n",
      "Epoch 6/100\n",
      "50000/50000 [==============================] - 8s 153us/step - loss: 1.4527 - accuracy: 0.4907 - val_loss: 1.4288 - val_accuracy: 0.4945\n",
      "Epoch 7/100\n",
      "50000/50000 [==============================] - 8s 151us/step - loss: 1.4155 - accuracy: 0.5069 - val_loss: 1.4036 - val_accuracy: 0.5076\n",
      "Epoch 8/100\n",
      "50000/50000 [==============================] - 8s 166us/step - loss: 1.3807 - accuracy: 0.5158 - val_loss: 1.3694 - val_accuracy: 0.5210\n",
      "Epoch 9/100\n",
      "50000/50000 [==============================] - 9s 173us/step - loss: 1.3563 - accuracy: 0.5258 - val_loss: 1.3776 - val_accuracy: 0.5200\n",
      "Epoch 10/100\n",
      "50000/50000 [==============================] - 9s 172us/step - loss: 1.3220 - accuracy: 0.5385 - val_loss: 1.3565 - val_accuracy: 0.5333\n",
      "Epoch 11/100\n",
      "50000/50000 [==============================] - 9s 185us/step - loss: 1.2908 - accuracy: 0.5487 - val_loss: 1.3526 - val_accuracy: 0.5255\n",
      "Epoch 12/100\n",
      "50000/50000 [==============================] - 9s 178us/step - loss: 1.2662 - accuracy: 0.5585 - val_loss: 1.3440 - val_accuracy: 0.5337\n",
      "Epoch 13/100\n",
      "50000/50000 [==============================] - 8s 166us/step - loss: 1.2384 - accuracy: 0.5702 - val_loss: 1.3553 - val_accuracy: 0.5294\n",
      "Epoch 14/100\n",
      "50000/50000 [==============================] - 8s 166us/step - loss: 1.2148 - accuracy: 0.5775 - val_loss: 1.3247 - val_accuracy: 0.5431\n",
      "Epoch 15/100\n",
      "50000/50000 [==============================] - 8s 170us/step - loss: 1.1916 - accuracy: 0.5842 - val_loss: 1.3233 - val_accuracy: 0.5416\n",
      "Epoch 16/100\n",
      "50000/50000 [==============================] - 9s 170us/step - loss: 1.1712 - accuracy: 0.5911 - val_loss: 1.3258 - val_accuracy: 0.5386\n",
      "Epoch 17/100\n",
      "50000/50000 [==============================] - 8s 169us/step - loss: 1.1511 - accuracy: 0.6026 - val_loss: 1.3194 - val_accuracy: 0.5497\n",
      "Epoch 18/100\n",
      "50000/50000 [==============================] - 9s 171us/step - loss: 1.1277 - accuracy: 0.6113 - val_loss: 1.3282 - val_accuracy: 0.5477\n",
      "Epoch 19/100\n",
      "50000/50000 [==============================] - 9s 172us/step - loss: 1.1096 - accuracy: 0.6165 - val_loss: 1.3097 - val_accuracy: 0.5546\n",
      "Epoch 20/100\n",
      "50000/50000 [==============================] - 8s 169us/step - loss: 1.0876 - accuracy: 0.6243 - val_loss: 1.3259 - val_accuracy: 0.5407\n",
      "Epoch 21/100\n",
      "50000/50000 [==============================] - 8s 170us/step - loss: 1.0738 - accuracy: 0.6266 - val_loss: 1.3211 - val_accuracy: 0.5516\n",
      "Epoch 22/100\n",
      "50000/50000 [==============================] - 9s 170us/step - loss: 1.0449 - accuracy: 0.6382 - val_loss: 1.3192 - val_accuracy: 0.5556\n",
      "Epoch 23/100\n",
      "50000/50000 [==============================] - 8s 170us/step - loss: 1.0324 - accuracy: 0.6437 - val_loss: 1.3047 - val_accuracy: 0.5581\n",
      "Epoch 24/100\n",
      "50000/50000 [==============================] - 8s 169us/step - loss: 1.0162 - accuracy: 0.6502 - val_loss: 1.3245 - val_accuracy: 0.5570\n",
      "Epoch 25/100\n",
      "50000/50000 [==============================] - 8s 168us/step - loss: 0.9992 - accuracy: 0.6572 - val_loss: 1.3193 - val_accuracy: 0.5587\n",
      "Epoch 26/100\n",
      "50000/50000 [==============================] - 9s 171us/step - loss: 0.9861 - accuracy: 0.6611 - val_loss: 1.3242 - val_accuracy: 0.5599\n",
      "Epoch 27/100\n",
      "50000/50000 [==============================] - 8s 168us/step - loss: 0.9749 - accuracy: 0.6678 - val_loss: 1.3311 - val_accuracy: 0.5643\n",
      "Epoch 28/100\n",
      "50000/50000 [==============================] - 9s 170us/step - loss: 0.9575 - accuracy: 0.6707 - val_loss: 1.3175 - val_accuracy: 0.5604\n",
      "Epoch 29/100\n",
      "50000/50000 [==============================] - 8s 169us/step - loss: 0.9443 - accuracy: 0.6760 - val_loss: 1.3316 - val_accuracy: 0.5592\n",
      "Epoch 30/100\n",
      "50000/50000 [==============================] - 8s 169us/step - loss: 0.9248 - accuracy: 0.6845 - val_loss: 1.3403 - val_accuracy: 0.5643\n",
      "Epoch 31/100\n",
      "50000/50000 [==============================] - 8s 169us/step - loss: 0.9148 - accuracy: 0.6876 - val_loss: 1.3585 - val_accuracy: 0.5627\n",
      "Epoch 32/100\n",
      "50000/50000 [==============================] - 8s 169us/step - loss: 0.8978 - accuracy: 0.6938 - val_loss: 1.3275 - val_accuracy: 0.5627\n",
      "Epoch 33/100\n",
      "50000/50000 [==============================] - 8s 170us/step - loss: 0.8874 - accuracy: 0.6969 - val_loss: 1.3398 - val_accuracy: 0.5626\n",
      "Epoch 34/100\n",
      "50000/50000 [==============================] - 8s 168us/step - loss: 0.8694 - accuracy: 0.7008 - val_loss: 1.3600 - val_accuracy: 0.5624\n",
      "Epoch 35/100\n",
      "50000/50000 [==============================] - 8s 168us/step - loss: 0.8581 - accuracy: 0.7074 - val_loss: 1.3811 - val_accuracy: 0.5614\n",
      "Epoch 36/100\n",
      "50000/50000 [==============================] - 9s 180us/step - loss: 0.8506 - accuracy: 0.7105 - val_loss: 1.3664 - val_accuracy: 0.5633\n",
      "Epoch 37/100\n",
      "50000/50000 [==============================] - 8s 170us/step - loss: 0.8364 - accuracy: 0.7134 - val_loss: 1.3493 - val_accuracy: 0.5637\n",
      "Epoch 38/100\n",
      "50000/50000 [==============================] - 8s 161us/step - loss: 0.8334 - accuracy: 0.7153 - val_loss: 1.3728 - val_accuracy: 0.5615\n",
      "Epoch 39/100\n",
      "50000/50000 [==============================] - 9s 173us/step - loss: 0.8185 - accuracy: 0.7224 - val_loss: 1.3659 - val_accuracy: 0.5599\n",
      "Epoch 40/100\n",
      "50000/50000 [==============================] - 8s 166us/step - loss: 0.8052 - accuracy: 0.7254 - val_loss: 1.3756 - val_accuracy: 0.5636\n",
      "Epoch 41/100\n",
      "50000/50000 [==============================] - 8s 168us/step - loss: 0.7991 - accuracy: 0.7275 - val_loss: 1.3926 - val_accuracy: 0.5601\n",
      "Epoch 42/100\n",
      "50000/50000 [==============================] - 8s 169us/step - loss: 0.7866 - accuracy: 0.7331 - val_loss: 1.3769 - val_accuracy: 0.5654\n",
      "Epoch 43/100\n",
      "50000/50000 [==============================] - 9s 173us/step - loss: 0.7764 - accuracy: 0.7353 - val_loss: 1.4080 - val_accuracy: 0.5672\n",
      "Epoch 44/100\n",
      "50000/50000 [==============================] - 9s 172us/step - loss: 0.7675 - accuracy: 0.7403 - val_loss: 1.3755 - val_accuracy: 0.5703\n",
      "Epoch 45/100\n",
      "50000/50000 [==============================] - 9s 171us/step - loss: 0.7585 - accuracy: 0.7414 - val_loss: 1.4117 - val_accuracy: 0.5623\n",
      "Epoch 46/100\n",
      "50000/50000 [==============================] - 9s 171us/step - loss: 0.7497 - accuracy: 0.7455 - val_loss: 1.4163 - val_accuracy: 0.5659\n",
      "Epoch 47/100\n",
      "50000/50000 [==============================] - 8s 170us/step - loss: 0.7408 - accuracy: 0.7503 - val_loss: 1.4069 - val_accuracy: 0.5629\n",
      "Epoch 48/100\n",
      "50000/50000 [==============================] - 9s 170us/step - loss: 0.7317 - accuracy: 0.7520 - val_loss: 1.4516 - val_accuracy: 0.5572\n",
      "Epoch 49/100\n",
      "50000/50000 [==============================] - 8s 169us/step - loss: 0.7226 - accuracy: 0.7536 - val_loss: 1.4415 - val_accuracy: 0.5668\n",
      "Epoch 50/100\n",
      "50000/50000 [==============================] - 9s 170us/step - loss: 0.7140 - accuracy: 0.7591 - val_loss: 1.4366 - val_accuracy: 0.5630\n",
      "Epoch 51/100\n",
      "50000/50000 [==============================] - 9s 173us/step - loss: 0.7100 - accuracy: 0.7585 - val_loss: 1.4650 - val_accuracy: 0.5595\n",
      "Epoch 52/100\n",
      "50000/50000 [==============================] - 9s 171us/step - loss: 0.7023 - accuracy: 0.7624 - val_loss: 1.4155 - val_accuracy: 0.5669\n",
      "Epoch 53/100\n",
      "50000/50000 [==============================] - 9s 170us/step - loss: 0.7001 - accuracy: 0.7631 - val_loss: 1.4485 - val_accuracy: 0.5641\n",
      "Epoch 54/100\n",
      "50000/50000 [==============================] - 9s 171us/step - loss: 0.6884 - accuracy: 0.7682 - val_loss: 1.4732 - val_accuracy: 0.5642\n",
      "Epoch 55/100\n"
     ]
    },
    {
     "name": "stdout",
     "output_type": "stream",
     "text": [
      "50000/50000 [==============================] - 9s 181us/step - loss: 0.6899 - accuracy: 0.7680 - val_loss: 1.4918 - val_accuracy: 0.5630\n",
      "Epoch 56/100\n",
      "50000/50000 [==============================] - 9s 171us/step - loss: 0.6737 - accuracy: 0.7739 - val_loss: 1.4849 - val_accuracy: 0.5643\n",
      "Epoch 57/100\n",
      "50000/50000 [==============================] - 10s 197us/step - loss: 0.6684 - accuracy: 0.7753 - val_loss: 1.4753 - val_accuracy: 0.5618\n",
      "Epoch 58/100\n",
      "50000/50000 [==============================] - 11s 215us/step - loss: 0.6646 - accuracy: 0.7745 - val_loss: 1.4323 - val_accuracy: 0.5651\n",
      "Epoch 59/100\n",
      "50000/50000 [==============================] - 10s 198us/step - loss: 0.6552 - accuracy: 0.7786 - val_loss: 1.4493 - val_accuracy: 0.5619\n",
      "Epoch 60/100\n",
      "50000/50000 [==============================] - 10s 202us/step - loss: 0.6536 - accuracy: 0.7780 - val_loss: 1.4497 - val_accuracy: 0.5642\n",
      "Epoch 61/100\n",
      "50000/50000 [==============================] - 8s 165us/step - loss: 0.6466 - accuracy: 0.7817 - val_loss: 1.4851 - val_accuracy: 0.5581\n",
      "Epoch 62/100\n",
      "50000/50000 [==============================] - 8s 165us/step - loss: 0.6377 - accuracy: 0.7870 - val_loss: 1.5056 - val_accuracy: 0.5647\n",
      "Epoch 63/100\n",
      "50000/50000 [==============================] - 9s 183us/step - loss: 0.6315 - accuracy: 0.7883 - val_loss: 1.5260 - val_accuracy: 0.5668\n",
      "Epoch 64/100\n",
      "50000/50000 [==============================] - 10s 192us/step - loss: 0.6346 - accuracy: 0.7889 - val_loss: 1.4964 - val_accuracy: 0.5625\n",
      "Epoch 65/100\n",
      "50000/50000 [==============================] - 10s 194us/step - loss: 0.6235 - accuracy: 0.7928 - val_loss: 1.5015 - val_accuracy: 0.5661\n",
      "Epoch 66/100\n",
      "50000/50000 [==============================] - 9s 180us/step - loss: 0.6136 - accuracy: 0.7933 - val_loss: 1.5054 - val_accuracy: 0.5683\n",
      "Epoch 67/100\n",
      "50000/50000 [==============================] - 8s 167us/step - loss: 0.6120 - accuracy: 0.7950 - val_loss: 1.4857 - val_accuracy: 0.5697\n",
      "Epoch 68/100\n",
      "50000/50000 [==============================] - 10s 195us/step - loss: 0.6059 - accuracy: 0.7978 - val_loss: 1.5268 - val_accuracy: 0.5642\n",
      "Epoch 69/100\n",
      "50000/50000 [==============================] - 9s 189us/step - loss: 0.6014 - accuracy: 0.7995 - val_loss: 1.5408 - val_accuracy: 0.5627\n",
      "Epoch 70/100\n",
      "50000/50000 [==============================] - 10s 191us/step - loss: 0.5972 - accuracy: 0.8011 - val_loss: 1.5286 - val_accuracy: 0.5591\n",
      "Epoch 71/100\n",
      "50000/50000 [==============================] - 9s 186us/step - loss: 0.5887 - accuracy: 0.8019 - val_loss: 1.5123 - val_accuracy: 0.5637\n",
      "Epoch 72/100\n",
      "50000/50000 [==============================] - 9s 189us/step - loss: 0.5810 - accuracy: 0.8065 - val_loss: 1.5319 - val_accuracy: 0.5567\n",
      "Epoch 73/100\n",
      "50000/50000 [==============================] - 9s 187us/step - loss: 0.5894 - accuracy: 0.8059 - val_loss: 1.5449 - val_accuracy: 0.5603\n",
      "Epoch 74/100\n",
      "50000/50000 [==============================] - 8s 168us/step - loss: 0.5837 - accuracy: 0.8076 - val_loss: 1.5460 - val_accuracy: 0.5610\n",
      "Epoch 75/100\n",
      "50000/50000 [==============================] - 9s 174us/step - loss: 0.5738 - accuracy: 0.8087 - val_loss: 1.4959 - val_accuracy: 0.5669\n",
      "Epoch 76/100\n",
      "50000/50000 [==============================] - 10s 199us/step - loss: 0.5736 - accuracy: 0.8104 - val_loss: 1.5600 - val_accuracy: 0.5649\n",
      "Epoch 77/100\n",
      "50000/50000 [==============================] - 10s 199us/step - loss: 0.5822 - accuracy: 0.8086 - val_loss: 1.5382 - val_accuracy: 0.5676\n",
      "Epoch 78/100\n",
      "50000/50000 [==============================] - 10s 192us/step - loss: 0.5602 - accuracy: 0.8159 - val_loss: 1.5764 - val_accuracy: 0.5640\n",
      "Epoch 79/100\n",
      "50000/50000 [==============================] - 9s 175us/step - loss: 0.5562 - accuracy: 0.8160 - val_loss: 1.5466 - val_accuracy: 0.5644\n",
      "Epoch 80/100\n",
      "50000/50000 [==============================] - 9s 182us/step - loss: 0.5440 - accuracy: 0.8198 - val_loss: 1.5558 - val_accuracy: 0.5642\n",
      "Epoch 81/100\n",
      "50000/50000 [==============================] - 9s 188us/step - loss: 0.5467 - accuracy: 0.8198 - val_loss: 1.5478 - val_accuracy: 0.5657\n",
      "Epoch 82/100\n",
      "50000/50000 [==============================] - 9s 188us/step - loss: 0.5535 - accuracy: 0.8171 - val_loss: 1.5908 - val_accuracy: 0.5649\n",
      "Epoch 83/100\n",
      "50000/50000 [==============================] - 9s 188us/step - loss: 0.5435 - accuracy: 0.8201 - val_loss: 1.5352 - val_accuracy: 0.5617\n",
      "Epoch 84/100\n",
      "50000/50000 [==============================] - 9s 188us/step - loss: 0.5419 - accuracy: 0.8221 - val_loss: 1.5880 - val_accuracy: 0.5643\n",
      "Epoch 85/100\n",
      "50000/50000 [==============================] - 9s 187us/step - loss: 0.5404 - accuracy: 0.8239 - val_loss: 1.5591 - val_accuracy: 0.5678\n",
      "Epoch 86/100\n",
      "50000/50000 [==============================] - 10s 191us/step - loss: 0.5337 - accuracy: 0.8253 - val_loss: 1.5993 - val_accuracy: 0.5628\n",
      "Epoch 87/100\n",
      "50000/50000 [==============================] - 9s 187us/step - loss: 0.5287 - accuracy: 0.8255 - val_loss: 1.5749 - val_accuracy: 0.5675\n",
      "Epoch 88/100\n",
      "50000/50000 [==============================] - 9s 187us/step - loss: 0.5270 - accuracy: 0.8275 - val_loss: 1.5647 - val_accuracy: 0.5609\n",
      "Epoch 89/100\n",
      "50000/50000 [==============================] - 9s 184us/step - loss: 0.5266 - accuracy: 0.8278 - val_loss: 1.5719 - val_accuracy: 0.5639\n",
      "Epoch 90/100\n",
      "50000/50000 [==============================] - 9s 189us/step - loss: 0.5219 - accuracy: 0.8293 - val_loss: 1.6222 - val_accuracy: 0.5642\n",
      "Epoch 91/100\n",
      "50000/50000 [==============================] - 9s 187us/step - loss: 0.5196 - accuracy: 0.8304 - val_loss: 1.5223 - val_accuracy: 0.5642\n",
      "Epoch 92/100\n",
      "50000/50000 [==============================] - 9s 187us/step - loss: 0.5182 - accuracy: 0.8331 - val_loss: 1.5566 - val_accuracy: 0.5736\n",
      "Epoch 93/100\n",
      "50000/50000 [==============================] - 10s 191us/step - loss: 0.4994 - accuracy: 0.8366 - val_loss: 1.6159 - val_accuracy: 0.5682\n",
      "Epoch 94/100\n",
      "50000/50000 [==============================] - 9s 188us/step - loss: 0.5069 - accuracy: 0.8332 - val_loss: 1.6021 - val_accuracy: 0.5609\n",
      "Epoch 95/100\n",
      "50000/50000 [==============================] - 9s 188us/step - loss: 0.5082 - accuracy: 0.8318 - val_loss: 1.6265 - val_accuracy: 0.5636\n",
      "Epoch 96/100\n",
      "50000/50000 [==============================] - 9s 188us/step - loss: 0.4894 - accuracy: 0.8425 - val_loss: 1.6236 - val_accuracy: 0.5649\n",
      "Epoch 97/100\n",
      "50000/50000 [==============================] - 9s 188us/step - loss: 0.4935 - accuracy: 0.8378 - val_loss: 1.5834 - val_accuracy: 0.5680\n",
      "Epoch 98/100\n",
      "50000/50000 [==============================] - 9s 186us/step - loss: 0.4873 - accuracy: 0.8398 - val_loss: 1.6092 - val_accuracy: 0.5653\n",
      "Epoch 99/100\n",
      "50000/50000 [==============================] - 10s 190us/step - loss: 0.5004 - accuracy: 0.8374 - val_loss: 1.5311 - val_accuracy: 0.5680\n",
      "Epoch 100/100\n",
      "50000/50000 [==============================] - 9s 185us/step - loss: 0.4800 - accuracy: 0.8428 - val_loss: 1.6081 - val_accuracy: 0.5702\n"
     ]
    },
    {
     "data": {
      "text/plain": [
       "<keras.callbacks.callbacks.History at 0x7f90ed7ed650>"
      ]
     },
     "execution_count": 34,
     "metadata": {},
     "output_type": "execute_result"
    }
   ],
   "source": [
    "import time\n",
    "tStart = time.time()#計時開始\n",
    "time.sleep(2)\n",
    "model.fit(x_train, y_train, \n",
    "          epochs=EPOCHS, \n",
    "          batch_size=BATCH_SIZE, \n",
    "          validation_data=(x_test, y_test), \n",
    "          shuffle=True)"
   ]
  },
  {
   "cell_type": "code",
   "execution_count": 36,
   "metadata": {},
   "outputs": [
    {
     "name": "stdout",
     "output_type": "stream",
     "text": [
      "909.7506759166718\n"
     ]
    }
   ],
   "source": [
    "tEnd = time.time()\n",
    "print (tEnd - tStart)"
   ]
  },
  {
   "cell_type": "code",
   "execution_count": 39,
   "metadata": {},
   "outputs": [
    {
     "data": {
      "image/png": "[encoded data removed]",
      "text/plain": [
       "<Figure size 432x288 with 1 Axes>"
      ]
     },
     "metadata": {
      "needs_background": "light"
     },
     "output_type": "display_data"
    },
    {
     "data": {
      "image/png": "[encoded data removed]",
      "text/plain": [
       "<Figure size 432x288 with 1 Axes>"
      ]
     },
     "metadata": {
      "needs_background": "light"
     },
     "output_type": "display_data"
    }
   ],
   "source": [
    "import matplotlib.pyplot as plt\n",
    "\n",
    "\n",
    "train_loss = model.history.history[\"loss\"]\n",
    "valid_loss = model.history.history[\"val_loss\"]\n",
    "\n",
    "train_acc = model.history.history[\"accuracy\"]\n",
    "valid_acc = model.history.history[\"val_accuracy\"]\n",
    "\n",
    "plt.plot(range(len(train_loss)), train_loss, label=\"train loss\")\n",
    "plt.plot(range(len(valid_loss)), valid_loss, label=\"valid loss\")\n",
    "plt.legend()\n",
    "plt.title(\"Loss\")\n",
    "plt.show()\n",
    "\n",
    "plt.plot(range(len(train_acc)), train_acc, label=\"train accuracy\")\n",
    "plt.plot(range(len(valid_acc)), valid_acc, label=\"valid accuracy\")\n",
    "plt.legend()\n",
    "plt.title(\"Accuracy\")\n",
    "plt.show()"
   ]
  },
  {
   "cell_type": "code",
   "execution_count": null,
   "metadata": {},
   "outputs": [],
   "source": []
  },
  {
   "cell_type": "code",
   "execution_count": null,
   "metadata": {},
   "outputs": [],
   "source": []
  },
  {
   "cell_type": "code",
   "execution_count": null,
   "metadata": {},
   "outputs": [],
   "source": []
  },
  {
   "cell_type": "code",
   "execution_count": null,
   "metadata": {},
   "outputs": [],
   "source": []
  }
 ],
 "metadata": {
  "kernelspec": {
   "display_name": "Python 3",
   "language": "python",
   "name": "python3"
  },
  "language_info": {
   "codemirror_mode": {
    "name": "ipython",
    "version": 3
   },
   "file_extension": ".py",
   "mimetype": "text/x-python",
   "name": "python",
   "nbconvert_exporter": "python",
   "pygments_lexer": "ipython3",
   "version": "3.7.4"
  }
 },
 "nbformat": 4,
 "nbformat_minor": 2
}
